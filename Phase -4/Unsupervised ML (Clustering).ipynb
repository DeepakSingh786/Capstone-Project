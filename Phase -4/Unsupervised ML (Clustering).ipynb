{
 "cells": [
  {
   "cell_type": "code",
   "execution_count": 339,
   "id": "0c8208c0",
   "metadata": {},
   "outputs": [],
   "source": [
    "import pandas as pd # used to access the values present in our data\n",
    "import numpy as np # Used to access the numerical values\n",
    "import matplotlib.pyplot as plt #This library used for the visualisation data in graphical form\n",
    "%matplotlib inline\n",
    "import seaborn as sns\n",
    "\n",
    "import warnings\n",
    "warnings.filterwarnings('ignore')\n",
    "from statistics import mean\n",
    "import statistics"
   ]
  },
  {
   "cell_type": "code",
   "execution_count": 327,
   "id": "3a4f6983",
   "metadata": {
    "scrolled": true
   },
   "outputs": [
    {
     "data": {
      "text/html": [
       "<div>\n",
       "<style scoped>\n",
       "    .dataframe tbody tr th:only-of-type {\n",
       "        vertical-align: middle;\n",
       "    }\n",
       "\n",
       "    .dataframe tbody tr th {\n",
       "        vertical-align: top;\n",
       "    }\n",
       "\n",
       "    .dataframe thead th {\n",
       "        text-align: right;\n",
       "    }\n",
       "</style>\n",
       "<table border=\"1\" class=\"dataframe\">\n",
       "  <thead>\n",
       "    <tr style=\"text-align: right;\">\n",
       "      <th></th>\n",
       "      <th>year</th>\n",
       "      <th>murder</th>\n",
       "      <th>rape</th>\n",
       "      <th>kidnap</th>\n",
       "      <th>robbery</th>\n",
       "      <th>other_crimes</th>\n",
       "      <th>total_crimes</th>\n",
       "      <th>district</th>\n",
       "    </tr>\n",
       "  </thead>\n",
       "  <tbody>\n",
       "    <tr>\n",
       "      <th>0</th>\n",
       "      <td>2001</td>\n",
       "      <td>161</td>\n",
       "      <td>100</td>\n",
       "      <td>92</td>\n",
       "      <td>646</td>\n",
       "      <td>3268</td>\n",
       "      <td>4267</td>\n",
       "      <td>ADILABAD</td>\n",
       "    </tr>\n",
       "    <tr>\n",
       "      <th>1</th>\n",
       "      <td>2001</td>\n",
       "      <td>276</td>\n",
       "      <td>46</td>\n",
       "      <td>106</td>\n",
       "      <td>947</td>\n",
       "      <td>3101</td>\n",
       "      <td>4476</td>\n",
       "      <td>ANANTAPUR</td>\n",
       "    </tr>\n",
       "    <tr>\n",
       "      <th>2</th>\n",
       "      <td>2001</td>\n",
       "      <td>158</td>\n",
       "      <td>54</td>\n",
       "      <td>118</td>\n",
       "      <td>1701</td>\n",
       "      <td>4344</td>\n",
       "      <td>6375</td>\n",
       "      <td>CHITTOOR</td>\n",
       "    </tr>\n",
       "    <tr>\n",
       "      <th>3</th>\n",
       "      <td>2001</td>\n",
       "      <td>133</td>\n",
       "      <td>40</td>\n",
       "      <td>50</td>\n",
       "      <td>449</td>\n",
       "      <td>2614</td>\n",
       "      <td>3286</td>\n",
       "      <td>CUDDAPAH</td>\n",
       "    </tr>\n",
       "    <tr>\n",
       "      <th>4</th>\n",
       "      <td>2001</td>\n",
       "      <td>149</td>\n",
       "      <td>46</td>\n",
       "      <td>98</td>\n",
       "      <td>2508</td>\n",
       "      <td>4523</td>\n",
       "      <td>7324</td>\n",
       "      <td>EAST GODAVARI</td>\n",
       "    </tr>\n",
       "    <tr>\n",
       "      <th>...</th>\n",
       "      <td>...</td>\n",
       "      <td>...</td>\n",
       "      <td>...</td>\n",
       "      <td>...</td>\n",
       "      <td>...</td>\n",
       "      <td>...</td>\n",
       "      <td>...</td>\n",
       "      <td>...</td>\n",
       "    </tr>\n",
       "    <tr>\n",
       "      <th>8592</th>\n",
       "      <td>2012</td>\n",
       "      <td>1</td>\n",
       "      <td>0</td>\n",
       "      <td>0</td>\n",
       "      <td>0</td>\n",
       "      <td>107</td>\n",
       "      <td>108</td>\n",
       "      <td>STF</td>\n",
       "    </tr>\n",
       "    <tr>\n",
       "      <th>8593</th>\n",
       "      <td>2012</td>\n",
       "      <td>89</td>\n",
       "      <td>158</td>\n",
       "      <td>908</td>\n",
       "      <td>4948</td>\n",
       "      <td>2143</td>\n",
       "      <td>8246</td>\n",
       "      <td>WEST</td>\n",
       "    </tr>\n",
       "    <tr>\n",
       "      <th>8594</th>\n",
       "      <td>2012</td>\n",
       "      <td>0</td>\n",
       "      <td>0</td>\n",
       "      <td>0</td>\n",
       "      <td>17</td>\n",
       "      <td>153</td>\n",
       "      <td>170</td>\n",
       "      <td>LAKSHADWEEP</td>\n",
       "    </tr>\n",
       "    <tr>\n",
       "      <th>8595</th>\n",
       "      <td>2012</td>\n",
       "      <td>11</td>\n",
       "      <td>12</td>\n",
       "      <td>4</td>\n",
       "      <td>187</td>\n",
       "      <td>746</td>\n",
       "      <td>960</td>\n",
       "      <td>KARAIKAL</td>\n",
       "    </tr>\n",
       "    <tr>\n",
       "      <th>8596</th>\n",
       "      <td>2012</td>\n",
       "      <td>45</td>\n",
       "      <td>14</td>\n",
       "      <td>34</td>\n",
       "      <td>1242</td>\n",
       "      <td>2764</td>\n",
       "      <td>4099</td>\n",
       "      <td>PUDUCHERRY</td>\n",
       "    </tr>\n",
       "  </tbody>\n",
       "</table>\n",
       "<p>8597 rows × 8 columns</p>\n",
       "</div>"
      ],
      "text/plain": [
       "      year  murder  rape  kidnap  robbery  other_crimes  total_crimes  \\\n",
       "0     2001     161   100      92      646          3268          4267   \n",
       "1     2001     276    46     106      947          3101          4476   \n",
       "2     2001     158    54     118     1701          4344          6375   \n",
       "3     2001     133    40      50      449          2614          3286   \n",
       "4     2001     149    46      98     2508          4523          7324   \n",
       "...    ...     ...   ...     ...      ...           ...           ...   \n",
       "8592  2012       1     0       0        0           107           108   \n",
       "8593  2012      89   158     908     4948          2143          8246   \n",
       "8594  2012       0     0       0       17           153           170   \n",
       "8595  2012      11    12       4      187           746           960   \n",
       "8596  2012      45    14      34     1242          2764          4099   \n",
       "\n",
       "           district  \n",
       "0          ADILABAD  \n",
       "1         ANANTAPUR  \n",
       "2          CHITTOOR  \n",
       "3          CUDDAPAH  \n",
       "4     EAST GODAVARI  \n",
       "...             ...  \n",
       "8592            STF  \n",
       "8593           WEST  \n",
       "8594    LAKSHADWEEP  \n",
       "8595       KARAIKAL  \n",
       "8596     PUDUCHERRY  \n",
       "\n",
       "[8597 rows x 8 columns]"
      ]
     },
     "execution_count": 327,
     "metadata": {},
     "output_type": "execute_result"
    }
   ],
   "source": [
    "df=pd.read_csv('crime.csv')\n",
    "df"
   ]
  },
  {
   "cell_type": "code",
   "execution_count": 328,
   "id": "1023a361",
   "metadata": {},
   "outputs": [
    {
     "name": "stdout",
     "output_type": "stream",
     "text": [
      "year            0\n",
      "murder          0\n",
      "rape            0\n",
      "kidnap          0\n",
      "robbery         0\n",
      "other_crimes    0\n",
      "total_crimes    0\n",
      "district        0\n",
      "dtype: int64\n"
     ]
    }
   ],
   "source": [
    "print(df.isnull().sum())"
   ]
  },
  {
   "cell_type": "code",
   "execution_count": 329,
   "id": "49b13c3a",
   "metadata": {},
   "outputs": [
    {
     "name": "stdout",
     "output_type": "stream",
     "text": [
      "<class 'pandas.core.frame.DataFrame'>\n",
      "RangeIndex: 8597 entries, 0 to 8596\n",
      "Data columns (total 8 columns):\n",
      " #   Column        Non-Null Count  Dtype \n",
      "---  ------        --------------  ----- \n",
      " 0   year          8597 non-null   int64 \n",
      " 1   murder        8597 non-null   int64 \n",
      " 2   rape          8597 non-null   int64 \n",
      " 3   kidnap        8597 non-null   int64 \n",
      " 4   robbery       8597 non-null   int64 \n",
      " 5   other_crimes  8597 non-null   int64 \n",
      " 6   total_crimes  8597 non-null   int64 \n",
      " 7   district      8597 non-null   object\n",
      "dtypes: int64(7), object(1)\n",
      "memory usage: 537.4+ KB\n"
     ]
    }
   ],
   "source": [
    "df.info()"
   ]
  },
  {
   "cell_type": "code",
   "execution_count": null,
   "id": "7dc1f94f",
   "metadata": {},
   "outputs": [],
   "source": []
  },
  {
   "cell_type": "code",
   "execution_count": 333,
   "id": "c08309f9",
   "metadata": {},
   "outputs": [
    {
     "data": {
      "image/png": "[encoded data removed]",
      "text/plain": [
       "<Figure size 2000x2000 with 7 Axes>"
      ]
     },
     "metadata": {},
     "output_type": "display_data"
    }
   ],
   "source": [
    "plt.figure(figsize=(20,20),facecolor='yellow')\n",
    "plotnumber = 1\n",
    "\n",
    "for column in df:\n",
    "    if plotnumber <=7 :\n",
    "        ax=plt.subplot(3,3,plotnumber)\n",
    "        sns.boxplot(df[column])\n",
    "        plt.xlabel(column,fontsize=13)\n",
    "        \n",
    "    plotnumber+=1\n",
    "plt.show()"
   ]
  },
  {
   "cell_type": "code",
   "execution_count": 347,
   "id": "d26fc84f",
   "metadata": {},
   "outputs": [],
   "source": [
    "#find the IQR - Inter quartile range to identify the outliers\n",
    "q1= df.quantile(0.25)\n",
    "q2= df.quantile(0.50)\n",
    "q3= df.quantile(0.75)\n",
    "\n",
    "iqr = q3 - q1"
   ]
  },
  {
   "cell_type": "code",
   "execution_count": 349,
   "id": "f48fc4be",
   "metadata": {},
   "outputs": [
    {
     "data": {
      "text/plain": [
       "171.0"
      ]
     },
     "execution_count": 349,
     "metadata": {},
     "output_type": "execute_result"
    }
   ],
   "source": [
    "#Validating outlier\n",
    "rape_high = (q3.rape + (1.5 * iqr.rape))\n",
    "rape_high\n",
    "\n",
    "#Indxes which have higher values\n",
    "np_index = np.where(df['rape']> rape_high)\n",
    "print(np_index)\n",
    "\n",
    "#dropping the indexes\n",
    "df = df.drop(df.index[np_index])\n",
    "df.shape\n",
    "\n",
    "#resetting the indexes\n",
    "df.reset_index()"
   ]
  },
  {
   "cell_type": "code",
   "execution_count": 310,
   "id": "27ce21bf",
   "metadata": {},
   "outputs": [
    {
     "data": {
      "text/plain": [
       "(array([], dtype=int64),)"
      ]
     },
     "execution_count": 310,
     "metadata": {},
     "output_type": "execute_result"
    }
   ],
   "source": [
    "#Indxes which have higher values\n",
    "np_index = np.where(df['crimes']> crimes_high)\n",
    "np_index"
   ]
  },
  {
   "cell_type": "code",
   "execution_count": 311,
   "id": "24a2af71",
   "metadata": {},
   "outputs": [
    {
     "data": {
      "text/plain": [
       "(8228, 3)"
      ]
     },
     "execution_count": 311,
     "metadata": {},
     "output_type": "execute_result"
    }
   ],
   "source": [
    "#dropping the indexes\n",
    "df = df.drop(df.index[np_index])\n",
    "df.shape"
   ]
  },
  {
   "cell_type": "code",
   "execution_count": 312,
   "id": "fbea4b62",
   "metadata": {},
   "outputs": [
    {
     "data": {
      "text/plain": [
       "(array([  3,  25,  38,  60,  73,  95, 108, 130, 165, 200, 235, 270, 305,\n",
       "        340, 375, 410], dtype=int64),)"
      ]
     },
     "execution_count": 312,
     "metadata": {},
     "output_type": "execute_result"
    }
   ],
   "source": [
    "#it shows how many data points we have deleted\n",
    "index"
   ]
  },
  {
   "cell_type": "code",
   "execution_count": 313,
   "id": "612ff845",
   "metadata": {},
   "outputs": [
    {
     "data": {
      "text/html": [
       "<div>\n",
       "<style scoped>\n",
       "    .dataframe tbody tr th:only-of-type {\n",
       "        vertical-align: middle;\n",
       "    }\n",
       "\n",
       "    .dataframe tbody tr th {\n",
       "        vertical-align: top;\n",
       "    }\n",
       "\n",
       "    .dataframe thead th {\n",
       "        text-align: right;\n",
       "    }\n",
       "</style>\n",
       "<table border=\"1\" class=\"dataframe\">\n",
       "  <thead>\n",
       "    <tr style=\"text-align: right;\">\n",
       "      <th></th>\n",
       "      <th>index</th>\n",
       "      <th>year</th>\n",
       "      <th>crimes</th>\n",
       "      <th>district</th>\n",
       "    </tr>\n",
       "  </thead>\n",
       "  <tbody>\n",
       "    <tr>\n",
       "      <th>0</th>\n",
       "      <td>0</td>\n",
       "      <td>2001</td>\n",
       "      <td>4154</td>\n",
       "      <td>Adilabad</td>\n",
       "    </tr>\n",
       "    <tr>\n",
       "      <th>1</th>\n",
       "      <td>1</td>\n",
       "      <td>2001</td>\n",
       "      <td>4125</td>\n",
       "      <td>Anantapur</td>\n",
       "    </tr>\n",
       "    <tr>\n",
       "      <th>2</th>\n",
       "      <td>2</td>\n",
       "      <td>2001</td>\n",
       "      <td>5818</td>\n",
       "      <td>Chittoor</td>\n",
       "    </tr>\n",
       "    <tr>\n",
       "      <th>3</th>\n",
       "      <td>3</td>\n",
       "      <td>2001</td>\n",
       "      <td>3140</td>\n",
       "      <td>Cuddapah</td>\n",
       "    </tr>\n",
       "    <tr>\n",
       "      <th>4</th>\n",
       "      <td>4</td>\n",
       "      <td>2001</td>\n",
       "      <td>6507</td>\n",
       "      <td>East Godavari</td>\n",
       "    </tr>\n",
       "    <tr>\n",
       "      <th>...</th>\n",
       "      <td>...</td>\n",
       "      <td>...</td>\n",
       "      <td>...</td>\n",
       "      <td>...</td>\n",
       "    </tr>\n",
       "    <tr>\n",
       "      <th>8223</th>\n",
       "      <td>8592</td>\n",
       "      <td>2012</td>\n",
       "      <td>6</td>\n",
       "      <td>Stf</td>\n",
       "    </tr>\n",
       "    <tr>\n",
       "      <th>8224</th>\n",
       "      <td>8593</td>\n",
       "      <td>2012</td>\n",
       "      <td>5558</td>\n",
       "      <td>West</td>\n",
       "    </tr>\n",
       "    <tr>\n",
       "      <th>8225</th>\n",
       "      <td>8594</td>\n",
       "      <td>2012</td>\n",
       "      <td>60</td>\n",
       "      <td>Lakshadweep</td>\n",
       "    </tr>\n",
       "    <tr>\n",
       "      <th>8226</th>\n",
       "      <td>8595</td>\n",
       "      <td>2012</td>\n",
       "      <td>787</td>\n",
       "      <td>Karaikal</td>\n",
       "    </tr>\n",
       "    <tr>\n",
       "      <th>8227</th>\n",
       "      <td>8596</td>\n",
       "      <td>2012</td>\n",
       "      <td>3494</td>\n",
       "      <td>Puducherry</td>\n",
       "    </tr>\n",
       "  </tbody>\n",
       "</table>\n",
       "<p>8228 rows × 4 columns</p>\n",
       "</div>"
      ],
      "text/plain": [
       "      index  year crimes       district\n",
       "0         0  2001   4154       Adilabad\n",
       "1         1  2001   4125      Anantapur\n",
       "2         2  2001   5818       Chittoor\n",
       "3         3  2001   3140       Cuddapah\n",
       "4         4  2001   6507  East Godavari\n",
       "...     ...   ...    ...            ...\n",
       "8223   8592  2012      6            Stf\n",
       "8224   8593  2012   5558           West\n",
       "8225   8594  2012     60    Lakshadweep\n",
       "8226   8595  2012    787       Karaikal\n",
       "8227   8596  2012   3494     Puducherry\n",
       "\n",
       "[8228 rows x 4 columns]"
      ]
     },
     "execution_count": 313,
     "metadata": {},
     "output_type": "execute_result"
    }
   ],
   "source": [
    "#resetting the indexes\n",
    "df.reset_index()"
   ]
  },
  {
   "cell_type": "code",
   "execution_count": 314,
   "id": "59afd145",
   "metadata": {},
   "outputs": [
    {
     "data": {
      "text/plain": [
       "<Axes: xlabel='crimes', ylabel='Density'>"
      ]
     },
     "execution_count": 314,
     "metadata": {},
     "output_type": "execute_result"
    },
    {
     "data": {
      "image/png": "[encoded data removed]",
      "text/plain": [
       "<Figure size 640x480 with 1 Axes>"
      ]
     },
     "metadata": {},
     "output_type": "display_data"
    }
   ],
   "source": [
    "sns.distplot(df['crimes'])"
   ]
  },
  {
   "cell_type": "code",
   "execution_count": null,
   "id": "d48170f3",
   "metadata": {},
   "outputs": [],
   "source": [
    "#dataset\n",
    "#X =dataset[['YEAR','MURDER','ATTEMPT TO MURDER','CULPABLE HOMICIDE NOT AMOUNTING TO MURDER','RAPE','CUSTODIAL RAPE','OTHER RAPE','KIDNAPPING & ABDUCTION','KIDNAPPING AND ABDUCTION OF WOMEN AND GIRLS','KIDNAPPING AND ABDUCTION OF OTHERS','DACOITY','PREPARATION AND ASSEMBLY FOR DACOITY','ROBBERY','BURGLARY','THEFT','AUTO THEFT','OTHER THEFT','RIOTS','CRIMINAL BREACH OF TRUST','CHEATING','COUNTERFIETING','ARSON','HURT/GREVIOUS HURT','DOWRY DEATHS','ASSAULT ON WOMEN WITH INTENT TO OUTRAGE HER MODESTY','INSULT TO MODESTY OF WOMEN','CRUELTY BY HUSBAND OR HIS RELATIVES','IMPORTATION OF GIRLS FROM FOREIGN COUNTRIES','OTHER IPC CRIMES','TOTAL IPC CRIMES']]\n",
    "#X.head()"
   ]
  },
  {
   "cell_type": "code",
   "execution_count": 315,
   "id": "5b50b849",
   "metadata": {},
   "outputs": [
    {
     "data": {
      "text/html": [
       "<div>\n",
       "<style scoped>\n",
       "    .dataframe tbody tr th:only-of-type {\n",
       "        vertical-align: middle;\n",
       "    }\n",
       "\n",
       "    .dataframe tbody tr th {\n",
       "        vertical-align: top;\n",
       "    }\n",
       "\n",
       "    .dataframe thead th {\n",
       "        text-align: right;\n",
       "    }\n",
       "</style>\n",
       "<table border=\"1\" class=\"dataframe\">\n",
       "  <thead>\n",
       "    <tr style=\"text-align: right;\">\n",
       "      <th></th>\n",
       "      <th>year</th>\n",
       "      <th>crimes</th>\n",
       "    </tr>\n",
       "  </thead>\n",
       "  <tbody>\n",
       "    <tr>\n",
       "      <th>0</th>\n",
       "      <td>2001</td>\n",
       "      <td>4154</td>\n",
       "    </tr>\n",
       "    <tr>\n",
       "      <th>1</th>\n",
       "      <td>2001</td>\n",
       "      <td>4125</td>\n",
       "    </tr>\n",
       "    <tr>\n",
       "      <th>2</th>\n",
       "      <td>2001</td>\n",
       "      <td>5818</td>\n",
       "    </tr>\n",
       "    <tr>\n",
       "      <th>3</th>\n",
       "      <td>2001</td>\n",
       "      <td>3140</td>\n",
       "    </tr>\n",
       "    <tr>\n",
       "      <th>4</th>\n",
       "      <td>2001</td>\n",
       "      <td>6507</td>\n",
       "    </tr>\n",
       "  </tbody>\n",
       "</table>\n",
       "</div>"
      ],
      "text/plain": [
       "   year crimes\n",
       "0  2001   4154\n",
       "1  2001   4125\n",
       "2  2001   5818\n",
       "3  2001   3140\n",
       "4  2001   6507"
      ]
     },
     "execution_count": 315,
     "metadata": {},
     "output_type": "execute_result"
    }
   ],
   "source": [
    "#dataset\n",
    "X =df[['year','crimes']]\n",
    "X.head()"
   ]
  },
  {
   "cell_type": "code",
   "execution_count": 272,
   "id": "6f71235d",
   "metadata": {},
   "outputs": [
    {
     "data": {
      "image/png": "[encoded data removed]",
      "text/plain": [
       "<Figure size 640x480 with 1 Axes>"
      ]
     },
     "metadata": {},
     "output_type": "display_data"
    }
   ],
   "source": [
    "#Elbow method\n",
    "from sklearn.cluster import KMeans\n",
    "\n",
    "wcss=[]\n",
    "for i in range (1,11):\n",
    "    kmeans=KMeans(n_clusters=i,random_state=42)\n",
    "    kmeans.fit(X)\n",
    "    wcss.append(kmeans.inertia_)\n",
    "plt.plot(range(1,11),wcss)\n",
    "plt.title('The Elbow Method')\n",
    "plt.xlabel('Number of clusters')\n",
    "plt.ylabel('WCSS')\n",
    "plt.show()"
   ]
  },
  {
   "cell_type": "code",
   "execution_count": 316,
   "id": "4b72f463",
   "metadata": {},
   "outputs": [
    {
     "data": {
      "text/html": [
       "<div>\n",
       "<style scoped>\n",
       "    .dataframe tbody tr th:only-of-type {\n",
       "        vertical-align: middle;\n",
       "    }\n",
       "\n",
       "    .dataframe tbody tr th {\n",
       "        vertical-align: top;\n",
       "    }\n",
       "\n",
       "    .dataframe thead th {\n",
       "        text-align: right;\n",
       "    }\n",
       "</style>\n",
       "<table border=\"1\" class=\"dataframe\">\n",
       "  <thead>\n",
       "    <tr style=\"text-align: right;\">\n",
       "      <th></th>\n",
       "      <th>year</th>\n",
       "      <th>crimes</th>\n",
       "    </tr>\n",
       "  </thead>\n",
       "  <tbody>\n",
       "    <tr>\n",
       "      <th>0</th>\n",
       "      <td>2001</td>\n",
       "      <td>4154</td>\n",
       "    </tr>\n",
       "    <tr>\n",
       "      <th>1</th>\n",
       "      <td>2001</td>\n",
       "      <td>4125</td>\n",
       "    </tr>\n",
       "    <tr>\n",
       "      <th>2</th>\n",
       "      <td>2001</td>\n",
       "      <td>5818</td>\n",
       "    </tr>\n",
       "    <tr>\n",
       "      <th>3</th>\n",
       "      <td>2001</td>\n",
       "      <td>3140</td>\n",
       "    </tr>\n",
       "    <tr>\n",
       "      <th>4</th>\n",
       "      <td>2001</td>\n",
       "      <td>6507</td>\n",
       "    </tr>\n",
       "  </tbody>\n",
       "</table>\n",
       "</div>"
      ],
      "text/plain": [
       "   year crimes\n",
       "0  2001   4154\n",
       "1  2001   4125\n",
       "2  2001   5818\n",
       "3  2001   3140\n",
       "4  2001   6507"
      ]
     },
     "execution_count": 316,
     "metadata": {},
     "output_type": "execute_result"
    }
   ],
   "source": [
    "X.head()"
   ]
  },
  {
   "cell_type": "code",
   "execution_count": 317,
   "id": "679e04ef",
   "metadata": {},
   "outputs": [
    {
     "name": "stdout",
     "output_type": "stream",
     "text": [
      "[2 2 1 ... 0 0 2]\n"
     ]
    }
   ],
   "source": [
    "# Fitting K-Means to the dataset\n",
    "kmeans = KMeans(n_clusters = 3, random_state = 42)\n",
    "y_kmeans = kmeans.fit_predict(X)\n",
    "print(y_kmeans)"
   ]
  },
  {
   "cell_type": "markdown",
   "id": "54a6ebe2",
   "metadata": {},
   "source": [
    "# Model Evaluation"
   ]
  },
  {
   "cell_type": "code",
   "execution_count": 275,
   "id": "f649d5a4",
   "metadata": {},
   "outputs": [],
   "source": [
    "# Just like in supervised learning we have a metric in unsupervised learning as well\n",
    "from sklearn.metrics import silhouette_score"
   ]
  },
  {
   "cell_type": "code",
   "execution_count": 318,
   "id": "62be5eb7",
   "metadata": {},
   "outputs": [
    {
     "data": {
      "text/plain": [
       "0.5921077213075208"
      ]
     },
     "execution_count": 318,
     "metadata": {},
     "output_type": "execute_result"
    }
   ],
   "source": [
    "silhouette_score(X,y_kmeans)"
   ]
  },
  {
   "cell_type": "markdown",
   "id": "d20a5fd2",
   "metadata": {},
   "source": [
    "# Sample prediction"
   ]
  },
  {
   "cell_type": "markdown",
   "id": "93a2f281",
   "metadata": {},
   "source": [
    "### It predicts the cluster number to which the datapoint belongs to. "
   ]
  },
  {
   "cell_type": "code",
   "execution_count": 319,
   "id": "1d36c5d8",
   "metadata": {},
   "outputs": [
    {
     "data": {
      "text/plain": [
       "1"
      ]
     },
     "execution_count": 319,
     "metadata": {},
     "output_type": "execute_result"
    }
   ],
   "source": [
    "test=kmeans.predict(np.array([[2001,5818]]))\n",
    "test[0]"
   ]
  },
  {
   "cell_type": "markdown",
   "id": "0b97fa8d",
   "metadata": {},
   "source": [
    "# 1. Sensitive areas belongs to cluster_1_states"
   ]
  },
  {
   "cell_type": "code",
   "execution_count": null,
   "id": "719a0592",
   "metadata": {},
   "outputs": [],
   "source": [
    "Observations why Sensitive:\n",
    "    \n",
    "    1. West Godavari being the most sensitive district in INDIA for crimes\n",
    "    2. Considered the most number of crimes in the other IPC crimes \n",
    "    3. In order to stop the crimes, we need to increase the number of courts and judges to reduce the backlog of cases.\n",
    "    4. Need to implement measures to improve witness protection and enhance the efficiency of the criminal justice system.\n",
    "    5. Crime prevention awareness programs is critical to maintain law and order in the country.\n",
    "    6. Here are the top 20 stratergies that can be implemented to help reduce the crimes -- \n",
    "        1. Help Victims of Crime\n",
    "        2. Reduce Demand for Law Enforcement\n",
    "        3. Fixing Distressed Spaces\n",
    "        4. Making Crime Attractors Less Appealing \n",
    "        5. Scientific Supports for Law Enforcement \n",
    "        6. Improving the Job Market and Job Training\n",
    "        7. Facilitate Neighborhood Non-Profits\n",
    "        8. Make Jails and Prison Less Criminogenic\n",
    "        9. Better Prepare People to Return Home from Prison\n",
    "        10. Fund Community-Based Violence Interruption\n",
    "        11. Use Technology to Reduce Violence\n",
    "        12. Tackle the Causes and Consequences of Poverty\n",
    "        13. Fix Long-Standing Problems \n",
    "        14. Shorten the Reach of the Criminal Justice System\n",
    "        15. Help Those with Substance-Use Disorders \n",
    "        16. Support Programs for High-Risk Young People and Families\n",
    "        17. Education - Improving education is its own crime-reducing category, but schools can facilitate crime reduction outside of schools. Reducing food insecurity, humanizing discipline and improving the safety of the school commute benefit everyone. \n",
    "        18. Housing - Like education, housing is its own category beyond the scope of this essay. But there are housing solutions with specific crime-reducing benefits: permanent, supportive housing; transitional housing for young people leaving homelessness; and housing programs specifically for people who cycle through emergency services. \n",
    "        19. Policy and Law - There are any number of laws and regulations that could be tweaked to meaningfully reduce crime and victimization. For example, higher taxes that specifically target the overuse of criminogenic products like guns and alcohol have been shown to reduce excess demand. \n",
    "        20. Stop the Proliferation of Firearms -the more guns, the more crime.\n",
    "    \n",
    "    https://www.vitalcitynyc.org/articles/twenty-strategies-for-reducing-crime-in-cities\n",
    "    "
   ]
  },
  {
   "cell_type": "markdown",
   "id": "b4a2db40",
   "metadata": {},
   "source": []
  },
  {
   "cell_type": "code",
   "execution_count": 320,
   "id": "76b211bb",
   "metadata": {},
   "outputs": [
    {
     "data": {
      "text/html": [
       "<div>\n",
       "<style scoped>\n",
       "    .dataframe tbody tr th:only-of-type {\n",
       "        vertical-align: middle;\n",
       "    }\n",
       "\n",
       "    .dataframe tbody tr th {\n",
       "        vertical-align: top;\n",
       "    }\n",
       "\n",
       "    .dataframe thead th {\n",
       "        text-align: right;\n",
       "    }\n",
       "</style>\n",
       "<table border=\"1\" class=\"dataframe\">\n",
       "  <thead>\n",
       "    <tr style=\"text-align: right;\">\n",
       "      <th></th>\n",
       "      <th>year</th>\n",
       "      <th>crimes</th>\n",
       "      <th>district</th>\n",
       "    </tr>\n",
       "  </thead>\n",
       "  <tbody>\n",
       "    <tr>\n",
       "      <th>6689</th>\n",
       "      <td>2010</td>\n",
       "      <td>4357</td>\n",
       "      <td>Shivpuri</td>\n",
       "    </tr>\n",
       "    <tr>\n",
       "      <th>3789</th>\n",
       "      <td>2006</td>\n",
       "      <td>4357</td>\n",
       "      <td>Rajgarh</td>\n",
       "    </tr>\n",
       "    <tr>\n",
       "      <th>8384</th>\n",
       "      <td>2012</td>\n",
       "      <td>4358</td>\n",
       "      <td>Jhunjhunu</td>\n",
       "    </tr>\n",
       "    <tr>\n",
       "      <th>2383</th>\n",
       "      <td>2004</td>\n",
       "      <td>4367</td>\n",
       "      <td>Khargon</td>\n",
       "    </tr>\n",
       "    <tr>\n",
       "      <th>7229</th>\n",
       "      <td>2011</td>\n",
       "      <td>4368</td>\n",
       "      <td>Mehsana</td>\n",
       "    </tr>\n",
       "    <tr>\n",
       "      <th>...</th>\n",
       "      <td>...</td>\n",
       "      <td>...</td>\n",
       "      <td>...</td>\n",
       "    </tr>\n",
       "    <tr>\n",
       "      <th>3743</th>\n",
       "      <td>2006</td>\n",
       "      <td>8186</td>\n",
       "      <td>Kottayam</td>\n",
       "    </tr>\n",
       "    <tr>\n",
       "      <th>4499</th>\n",
       "      <td>2007</td>\n",
       "      <td>8194</td>\n",
       "      <td>Sagar</td>\n",
       "    </tr>\n",
       "    <tr>\n",
       "      <th>4652</th>\n",
       "      <td>2007</td>\n",
       "      <td>8199</td>\n",
       "      <td>Alwar</td>\n",
       "    </tr>\n",
       "    <tr>\n",
       "      <th>3007</th>\n",
       "      <td>2005</td>\n",
       "      <td>8200</td>\n",
       "      <td>Bangalore Rural</td>\n",
       "    </tr>\n",
       "    <tr>\n",
       "      <th>4891</th>\n",
       "      <td>2008</td>\n",
       "      <td>8213</td>\n",
       "      <td>West Godavari</td>\n",
       "    </tr>\n",
       "  </tbody>\n",
       "</table>\n",
       "<p>1293 rows × 3 columns</p>\n",
       "</div>"
      ],
      "text/plain": [
       "      year crimes         district\n",
       "6689  2010   4357         Shivpuri\n",
       "3789  2006   4357          Rajgarh\n",
       "8384  2012   4358        Jhunjhunu\n",
       "2383  2004   4367          Khargon\n",
       "7229  2011   4368          Mehsana\n",
       "...    ...    ...              ...\n",
       "3743  2006   8186         Kottayam\n",
       "4499  2007   8194            Sagar\n",
       "4652  2007   8199            Alwar\n",
       "3007  2005   8200  Bangalore Rural\n",
       "4891  2008   8213    West Godavari\n",
       "\n",
       "[1293 rows x 3 columns]"
      ]
     },
     "execution_count": 320,
     "metadata": {},
     "output_type": "execute_result"
    }
   ],
   "source": [
    "cluster_1_states= df[y_kmeans==1]\n",
    "cluster_1_states.sort_values(by='crimes')"
   ]
  },
  {
   "cell_type": "markdown",
   "id": "dca36407",
   "metadata": {},
   "source": [
    "# 2. Peaceful Area's belongs to the cluster_0_states"
   ]
  },
  {
   "cell_type": "markdown",
   "id": "9ee6d111",
   "metadata": {},
   "source": [
    "Observations why it's the most peaceful area: \n",
    "1. S.T.F., GRP, CId are bieng the most peaceful districts in India where almost very less number of crimes have happened\n",
    "2. Most underrated place resulted in less people gatherings\n",
    "3. Less crime prone areas as compared to the areas where the population is higher, less roberry prone areas etc."
   ]
  },
  {
   "cell_type": "markdown",
   "id": "803e96ab",
   "metadata": {},
   "source": []
  },
  {
   "cell_type": "code",
   "execution_count": 321,
   "id": "906ce31e",
   "metadata": {},
   "outputs": [
    {
     "data": {
      "text/html": [
       "<div>\n",
       "<style scoped>\n",
       "    .dataframe tbody tr th:only-of-type {\n",
       "        vertical-align: middle;\n",
       "    }\n",
       "\n",
       "    .dataframe tbody tr th {\n",
       "        vertical-align: top;\n",
       "    }\n",
       "\n",
       "    .dataframe thead th {\n",
       "        text-align: right;\n",
       "    }\n",
       "</style>\n",
       "<table border=\"1\" class=\"dataframe\">\n",
       "  <thead>\n",
       "    <tr style=\"text-align: right;\">\n",
       "      <th></th>\n",
       "      <th>year</th>\n",
       "      <th>crimes</th>\n",
       "      <th>district</th>\n",
       "    </tr>\n",
       "  </thead>\n",
       "  <tbody>\n",
       "    <tr>\n",
       "      <th>1358</th>\n",
       "      <td>2002</td>\n",
       "      <td>0</td>\n",
       "      <td>S.T.F.</td>\n",
       "    </tr>\n",
       "    <tr>\n",
       "      <th>675</th>\n",
       "      <td>2001</td>\n",
       "      <td>0</td>\n",
       "      <td>S.T.F.</td>\n",
       "    </tr>\n",
       "    <tr>\n",
       "      <th>1554</th>\n",
       "      <td>2003</td>\n",
       "      <td>1</td>\n",
       "      <td>G.R.P.</td>\n",
       "    </tr>\n",
       "    <tr>\n",
       "      <th>6005</th>\n",
       "      <td>2009</td>\n",
       "      <td>1</td>\n",
       "      <td>Cid</td>\n",
       "    </tr>\n",
       "    <tr>\n",
       "      <th>7272</th>\n",
       "      <td>2011</td>\n",
       "      <td>2</td>\n",
       "      <td>Cid</td>\n",
       "    </tr>\n",
       "    <tr>\n",
       "      <th>...</th>\n",
       "      <td>...</td>\n",
       "      <td>...</td>\n",
       "      <td>...</td>\n",
       "    </tr>\n",
       "    <tr>\n",
       "      <th>7398</th>\n",
       "      <td>2011</td>\n",
       "      <td>1914</td>\n",
       "      <td>Barwani</td>\n",
       "    </tr>\n",
       "    <tr>\n",
       "      <th>3354</th>\n",
       "      <td>2005</td>\n",
       "      <td>1914</td>\n",
       "      <td>Hardoi</td>\n",
       "    </tr>\n",
       "    <tr>\n",
       "      <th>8467</th>\n",
       "      <td>2012</td>\n",
       "      <td>1914</td>\n",
       "      <td>Bhim Nagar</td>\n",
       "    </tr>\n",
       "    <tr>\n",
       "      <th>925</th>\n",
       "      <td>2002</td>\n",
       "      <td>1915</td>\n",
       "      <td>Bagalkot</td>\n",
       "    </tr>\n",
       "    <tr>\n",
       "      <th>5875</th>\n",
       "      <td>2009</td>\n",
       "      <td>1916</td>\n",
       "      <td>Koppal</td>\n",
       "    </tr>\n",
       "  </tbody>\n",
       "</table>\n",
       "<p>4168 rows × 3 columns</p>\n",
       "</div>"
      ],
      "text/plain": [
       "      year crimes    district\n",
       "1358  2002      0      S.T.F.\n",
       "675   2001      0      S.T.F.\n",
       "1554  2003      1      G.R.P.\n",
       "6005  2009      1         Cid\n",
       "7272  2011      2         Cid\n",
       "...    ...    ...         ...\n",
       "7398  2011   1914     Barwani\n",
       "3354  2005   1914      Hardoi\n",
       "8467  2012   1914  Bhim Nagar\n",
       "925   2002   1915    Bagalkot\n",
       "5875  2009   1916      Koppal\n",
       "\n",
       "[4168 rows x 3 columns]"
      ]
     },
     "execution_count": 321,
     "metadata": {},
     "output_type": "execute_result"
    }
   ],
   "source": [
    "cluster_0_states= df[y_kmeans==0]\n",
    "cluster_0_states.sort_values(by='crimes')"
   ]
  },
  {
   "cell_type": "markdown",
   "id": "ebebcd31",
   "metadata": {},
   "source": [
    "# 3. Moderate Area's belongs to the cluster_2_states"
   ]
  },
  {
   "cell_type": "markdown",
   "id": "1f7f8b15",
   "metadata": {},
   "source": [
    "Observations why Moderate: \n",
    "\n",
    "    1. It seems like Unnao,Giridih,Etawah,Kutch (West-Bhuj),Purnea are the moderate crime districts\n",
    "    2. Low highly offensive crimes "
   ]
  },
  {
   "cell_type": "code",
   "execution_count": 322,
   "id": "881989a4",
   "metadata": {},
   "outputs": [
    {
     "data": {
      "text/html": [
       "<div>\n",
       "<style scoped>\n",
       "    .dataframe tbody tr th:only-of-type {\n",
       "        vertical-align: middle;\n",
       "    }\n",
       "\n",
       "    .dataframe tbody tr th {\n",
       "        vertical-align: top;\n",
       "    }\n",
       "\n",
       "    .dataframe thead th {\n",
       "        text-align: right;\n",
       "    }\n",
       "</style>\n",
       "<table border=\"1\" class=\"dataframe\">\n",
       "  <thead>\n",
       "    <tr style=\"text-align: right;\">\n",
       "      <th></th>\n",
       "      <th>year</th>\n",
       "      <th>crimes</th>\n",
       "      <th>district</th>\n",
       "    </tr>\n",
       "  </thead>\n",
       "  <tbody>\n",
       "    <tr>\n",
       "      <th>2692</th>\n",
       "      <td>2004</td>\n",
       "      <td>1917</td>\n",
       "      <td>Unnao</td>\n",
       "    </tr>\n",
       "    <tr>\n",
       "      <th>227</th>\n",
       "      <td>2001</td>\n",
       "      <td>1918</td>\n",
       "      <td>Giridih</td>\n",
       "    </tr>\n",
       "    <tr>\n",
       "      <th>6951</th>\n",
       "      <td>2010</td>\n",
       "      <td>1918</td>\n",
       "      <td>Etawah</td>\n",
       "    </tr>\n",
       "    <tr>\n",
       "      <th>7228</th>\n",
       "      <td>2011</td>\n",
       "      <td>1919</td>\n",
       "      <td>Kutch (West-Bhuj)</td>\n",
       "    </tr>\n",
       "    <tr>\n",
       "      <th>1469</th>\n",
       "      <td>2003</td>\n",
       "      <td>1919</td>\n",
       "      <td>Purnea</td>\n",
       "    </tr>\n",
       "    <tr>\n",
       "      <th>...</th>\n",
       "      <td>...</td>\n",
       "      <td>...</td>\n",
       "      <td>...</td>\n",
       "    </tr>\n",
       "    <tr>\n",
       "      <th>580</th>\n",
       "      <td>2001</td>\n",
       "      <td>4352</td>\n",
       "      <td>G.R.P.</td>\n",
       "    </tr>\n",
       "    <tr>\n",
       "      <th>113</th>\n",
       "      <td>2001</td>\n",
       "      <td>4353</td>\n",
       "      <td>Bilaspur</td>\n",
       "    </tr>\n",
       "    <tr>\n",
       "      <th>5226</th>\n",
       "      <td>2008</td>\n",
       "      <td>4353</td>\n",
       "      <td>Vidisha</td>\n",
       "    </tr>\n",
       "    <tr>\n",
       "      <th>2408</th>\n",
       "      <td>2004</td>\n",
       "      <td>4354</td>\n",
       "      <td>Akola</td>\n",
       "    </tr>\n",
       "    <tr>\n",
       "      <th>3033</th>\n",
       "      <td>2005</td>\n",
       "      <td>4354</td>\n",
       "      <td>Tumkur</td>\n",
       "    </tr>\n",
       "  </tbody>\n",
       "</table>\n",
       "<p>2767 rows × 3 columns</p>\n",
       "</div>"
      ],
      "text/plain": [
       "      year crimes           district\n",
       "2692  2004   1917              Unnao\n",
       "227   2001   1918            Giridih\n",
       "6951  2010   1918             Etawah\n",
       "7228  2011   1919  Kutch (West-Bhuj)\n",
       "1469  2003   1919             Purnea\n",
       "...    ...    ...                ...\n",
       "580   2001   4352             G.R.P.\n",
       "113   2001   4353           Bilaspur\n",
       "5226  2008   4353            Vidisha\n",
       "2408  2004   4354              Akola\n",
       "3033  2005   4354             Tumkur\n",
       "\n",
       "[2767 rows x 3 columns]"
      ]
     },
     "execution_count": 322,
     "metadata": {},
     "output_type": "execute_result"
    }
   ],
   "source": [
    "cluster_2_states= df[y_kmeans==2]\n",
    "cluster_2_states.sort_values(by='crimes')"
   ]
  },
  {
   "cell_type": "code",
   "execution_count": 326,
   "id": "f7f153fe",
   "metadata": {},
   "outputs": [
    {
     "data": {
      "image/png": "[encoded data removed]",
      "text/plain": [
       "<Figure size 800x500 with 1 Axes>"
      ]
     },
     "metadata": {},
     "output_type": "display_data"
    }
   ],
   "source": [
    "# Visualising the clusters\n",
    "plt.figure(figsize=(8,5))\n",
    "plt.scatter(X[y_kmeans == 0]['year'], X[y_kmeans == 0]['crimes'], s = 100, c = 'green', label = 'Peaceful')\n",
    "\n",
    "plt.scatter(X[y_kmeans == 1]['year'], X[y_kmeans == 1]['crimes'], s = 100, c = 'red', label = 'Sensitive')\n",
    "\n",
    "plt.scatter(X[y_kmeans == 2]['year'], X[y_kmeans == 2]['crimes'], s = 100, c = 'orange', label = 'Moderate')\n",
    "\n",
    "plt.scatter(kmeans.cluster_centers_[:, 0], kmeans.cluster_centers_[:, 1], s = 300, c = 'black', label = 'Centroids')\n",
    "plt.title('Clusters of Crimes')\n",
    "plt.xlabel('crimes')\n",
    "plt.ylabel('year')\n",
    "plt.legend()\n",
    "plt.show()"
   ]
  },
  {
   "cell_type": "code",
   "execution_count": null,
   "id": "b804e669",
   "metadata": {},
   "outputs": [],
   "source": []
  },
  {
   "cell_type": "code",
   "execution_count": null,
   "id": "5796f020",
   "metadata": {},
   "outputs": [],
   "source": []
  },
  {
   "cell_type": "code",
   "execution_count": null,
   "id": "43c7297b",
   "metadata": {},
   "outputs": [],
   "source": []
  },
  {
   "cell_type": "code",
   "execution_count": null,
   "id": "2390b50c",
   "metadata": {},
   "outputs": [],
   "source": []
  },
  {
   "cell_type": "code",
   "execution_count": null,
   "id": "896fb327",
   "metadata": {},
   "outputs": [],
   "source": []
  }
 ],
 "metadata": {
  "kernelspec": {
   "display_name": "Python 3 (ipykernel)",
   "language": "python",
   "name": "python3"
  },
  "language_info": {
   "codemirror_mode": {
    "name": "ipython",
    "version": 3
   },
   "file_extension": ".py",
   "mimetype": "text/x-python",
   "name": "python",
   "nbconvert_exporter": "python",
   "pygments_lexer": "ipython3",
   "version": "3.11.3"
  }
 },
 "nbformat": 4,
 "nbformat_minor": 5
}
